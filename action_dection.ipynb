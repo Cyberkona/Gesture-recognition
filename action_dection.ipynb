{
 "cells": [
  {
   "cell_type": "code",
   "execution_count": 2,
   "metadata": {},
   "outputs": [],
   "source": [
    "import mediapipe as mp\n",
    "import numpy as np\n",
    "import cv2\n",
    "import time"
   ]
  },
  {
   "cell_type": "code",
   "execution_count": 3,
   "metadata": {},
   "outputs": [],
   "source": [
    "mp_hands = mp.solutions.hands\n",
    "hands = mp_hands.Hands(static_image_mode=False,        # 是静态图片还是连续视频帧\n",
    "                       max_num_hands=2,                # 最多检测几只手\n",
    "                       min_detection_confidence=0.8,   # 置信度阈值\n",
    "                       min_tracking_confidence=0.5)    # 追踪阈值\n",
    "mpDraw = mp.solutions.drawing_utils"
   ]
  },
  {
   "cell_type": "code",
   "execution_count": 4,
   "metadata": {},
   "outputs": [
    {
     "name": "stderr",
     "output_type": "stream",
     "text": [
      "INFO: Created TensorFlow Lite XNNPACK delegate for CPU.\n"
     ]
    }
   ],
   "source": [
    "def process_one_hand(mp_hand_result,hand_idx):\n",
    "\n",
    "    # 给定结果簇与索引，进行单只手的处理，输出单手骨架向量，[23*3]\n",
    "    hand_21 = mp_hand_result.multi_hand_world_landmarks[hand_idx]           # 获取该手的21个关键点坐标\n",
    "\n",
    "    # 以食指指根[5]为Z轴\n",
    "    vec_z = np.array([(hand_21.landmark[0].z - hand_21.landmark[5].z),      # 深度估计化为x向\n",
    "                    ((hand_21.landmark[5].x - hand_21.landmark[0].x)),      # 图像x向化为y向\n",
    "                    ((hand_21.landmark[0].y - hand_21.landmark[5].y))])     # 图像y向化为z向\n",
    "\n",
    "    norm_vec_z = np.linalg.norm(vec_z)\n",
    "    hand_size_scaler = 10.0 / norm_vec_z\n",
    "    normal_vec_z = vec_z * hand_size_scaler\n",
    "    new_e_z = normal_vec_z / 10.0                                           # 新的基底ez\n",
    "\n",
    "    vec_y_z = np.array([(hand_21.landmark[0].z - hand_21.landmark[17].z),   # 深度估计化为x向\n",
    "        ((hand_21.landmark[17].x - hand_21.landmark[0].x) ),                # 图像x向化为y向\n",
    "        ((hand_21.landmark[0].y - hand_21.landmark[17].y) )])               # 图像y向化为z向\n",
    "\n",
    "    normal_vec_y_z =  vec_y_z * hand_size_scaler\n",
    "    horizontal_on_z = np.dot(normal_vec_y_z,new_e_z) * new_e_z\n",
    "    vec_y =  horizontal_on_z - normal_vec_y_z\n",
    "\n",
    "    new_e_y = vec_y / np.linalg.norm(vec_y)                                 # 新的基底ey\n",
    "    new_e_x = np.cross(new_e_y, new_e_z)                                    # 新的基底ex\n",
    "\n",
    "    new_e_mat = np.array([new_e_x,new_e_y,new_e_z])                         # 旋转矩阵\n",
    "\n",
    "    for hand_point_idx in range(len(hand_21.landmark)):\n",
    "        if hand_point_idx == 0:\n",
    "            hand_point_vec = np.array([-hand_21.landmark[hand_point_idx].z,hand_21.landmark[hand_point_idx].x,-hand_21.landmark[hand_point_idx].y])\n",
    "        elif hand_point_idx == 5:\n",
    "            continue\n",
    "        else:\n",
    "            hand_point_vec = np.row_stack((hand_point_vec,[[-hand_21.landmark[hand_point_idx].z,hand_21.landmark[hand_point_idx].x,-hand_21.landmark[hand_point_idx].y]]))\n",
    "    \n",
    "    hand_point_vec += [hand_21.landmark[0].z, -hand_21.landmark[0].x, hand_21.landmark[0].y]\n",
    "\n",
    "    normal_hand_point_vec = hand_point_vec * hand_size_scaler\n",
    "    normal_hand_point_vec = np.matmul(new_e_mat,normal_hand_point_vec.T).T\n",
    "\n",
    "    normal_hand_point_vec[0] = [hand_21.landmark[0].z,hand_21.landmark[0].x,hand_21.landmark[0].y]  # 第一项用绝对坐标\n",
    "    normal_hand_point_vec = np.row_stack((normal_hand_point_vec,new_e_mat))\n",
    "\n",
    "    return normal_hand_point_vec"
   ]
  },
  {
   "cell_type": "code",
   "execution_count": 5,
   "metadata": {},
   "outputs": [],
   "source": [
    "def process_frame_vec(img,show = False):\n",
    "\n",
    "    start_time = time.time()\n",
    "\n",
    "    img = cv2.flip(img, 1)\n",
    "    img_RGB = cv2.cvtColor(img, cv2.COLOR_BGR2RGB)\n",
    "    results = hands.process(img_RGB)\n",
    "\n",
    "    one_hand_vec_len = 23\n",
    "    end_idx = one_hand_vec_len * 2 - 1\n",
    "    vec_out = np.zeros((one_hand_vec_len * 2, 3))   # 总输出，[46*3]\n",
    "\n",
    "    if results.multi_hand_world_landmarks:\n",
    "\n",
    "        if len(results.multi_hand_world_landmarks) == 1:\n",
    "            \n",
    "            #一只手的时候处理\n",
    "            one_hand_vec = process_one_hand(results,0)\n",
    "            \n",
    "            for circle_idx in range(one_hand_vec_len):\n",
    "                vec_out[circle_idx] = one_hand_vec[circle_idx]\n",
    "                vec_out[end_idx-circle_idx] = one_hand_vec[circle_idx]\n",
    "        \n",
    "        elif len(results.multi_hand_world_landmarks) == 2:\n",
    "            \n",
    "            #两只手的时候处理\n",
    "            first_hand_vec = process_one_hand(results,0)\n",
    "            second_hand_vec = process_one_hand(results,1)\n",
    "            for circle_idx in range(one_hand_vec_len):\n",
    "                vec_out[circle_idx] = first_hand_vec[circle_idx]\n",
    "                vec_out[end_idx-circle_idx] = second_hand_vec[circle_idx]\n",
    "        \n",
    "        end_time = time.time()\n",
    "        FPS = 1/(end_time - start_time)\n",
    "        FPS_str = \"{}\".format(FPS)\n",
    "\n",
    "        if show == True:\n",
    "            cv2.putText(img, FPS_str, (120,200), cv2.FONT_HERSHEY_SIMPLEX, 1, (0,255, 0), 4, cv2.LINE_AA)\n",
    "            # print(\"-----------------------------------\")\n",
    "            # print(\"FPS: \",FPS)\n",
    "            # print(np.around(vec_out,3))\n",
    "\n",
    "        return vec_out"
   ]
  },
  {
   "cell_type": "code",
   "execution_count": 6,
   "metadata": {},
   "outputs": [],
   "source": [
    "cap = cv2.VideoCapture(0)\n",
    "cap.open(0)\n",
    "cap.set(5,10)\n",
    "\n",
    "np.set_printoptions(suppress=True) # 不以科学计数法显示\n",
    "\n",
    "while cap.isOpened():\n",
    "    \n",
    "    success, frame = cap.read()\n",
    "    if not success:\n",
    "        break\n",
    "    \n",
    "    hands_vector = process_frame_vec(frame,True)\n",
    "\n",
    "    cv2.imshow('my_window', frame)\n",
    "    if cv2.waitKey(1) in [ord('q'),27]: # 按键盘上的q或esc退出（在英文输入法下）\n",
    "        break\n",
    "    \n",
    "cap.release()\n",
    "cv2.destroyAllWindows()"
   ]
  },
  {
   "cell_type": "code",
   "execution_count": 7,
   "metadata": {},
   "outputs": [],
   "source": [
    "import os\n",
    "\n",
    "# Path for exported data, numpy arrays\n",
    "DATA_PATH = os.path.join('手势数据集') \n",
    "\n",
    "# Actions that we try to detect\n",
    "actions = np.array(['你', '我', '他','好'])\n",
    "\n",
    "for action in actions: \n",
    "    hand_class_path = os.path.join(DATA_PATH, action)\n",
    "    if os.path.exists(hand_class_path):\n",
    "        pass\n",
    "    else:\n",
    "        os.makedirs(hand_class_path)"
   ]
  }
 ],
 "metadata": {
  "kernelspec": {
   "display_name": "Python 3.8.10 64-bit",
   "language": "python",
   "name": "python3"
  },
  "language_info": {
   "codemirror_mode": {
    "name": "ipython",
    "version": 3
   },
   "file_extension": ".py",
   "mimetype": "text/x-python",
   "name": "python",
   "nbconvert_exporter": "python",
   "pygments_lexer": "ipython3",
   "version": "3.8.10"
  },
  "orig_nbformat": 4,
  "vscode": {
   "interpreter": {
    "hash": "31f2aee4e71d21fbe5cf8b01ff0e069b9275f58929596ceb00d14d90e3e16cd6"
   }
  }
 },
 "nbformat": 4,
 "nbformat_minor": 2
}
